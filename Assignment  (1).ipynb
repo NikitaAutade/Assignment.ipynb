{
 "cells": [
  {
   "cell_type": "markdown",
   "id": "a0e85820-3226-48c6-8723-1470b6d341e3",
   "metadata": {},
   "source": [
    "1] Who developed Python Programming langauge?\n",
    "=> It was initially designed by Guido Van Rossun in 1991 and developed by the Python Software Foundation."
   ]
  },
  {
   "cell_type": "markdown",
   "id": "aca63b4a-8cb3-4b28-bbbf-97f159a347bc",
   "metadata": {},
   "source": [
    "2] Which type of Programming foes Python support ?\n",
    "=> Python supports both object oriented and procedural programming, so it is suitable for a wide range of applications. It can be used to develop applications for a wide variety of platforms,including embedded systems."
   ]
  },
  {
   "cell_type": "markdown",
   "id": "66582fc6-1138-4dc4-a1bf-3aee84269a44",
   "metadata": {},
   "source": [
    "3] Is Python case sensitive when dealing with identifiers ?\n",
    "=> The Python language is case sensitive. Identifiers,Keywords and names of classes must be wrriten in lowercase letters."
   ]
  },
  {
   "cell_type": "markdown",
   "id": "12d4a6e4-a327-4990-999f-4c503ae8a06f",
   "metadata": {},
   "source": [
    "4] What is the correct extension of python file ?\n",
    "=> Filename.py if we are saving python file in any notebook than extension shound be filename.ipynb"
   ]
  },
  {
   "cell_type": "markdown",
   "id": "c7976584-3ae9-4c2a-9955-d92507127f73",
   "metadata": {},
   "source": [
    "5] Is Python code compiled or interpreted ?\n",
    "=> Python is a \"Compiled interpreted\" language. This means when the python program is run, First Python checks for program syntax Compiles and directly bytecode is located in system memory. Then compiled bytecode interpreted from memory to execute it."
   ]
  },
  {
   "cell_type": "markdown",
   "id": "3df586da-656f-4d86-9bed-846a87761d40",
   "metadata": {},
   "source": [
    "6] Name a few blocks of code used to define in Python language ?\n",
    "=> In below exaple their are two blocks if and else which will execute according to the condition and the nested statements or block can execute depending upon the condition. if (condition): Statement 1 Statement 2 else: Statement 3 Statement 4"
   ]
  },
  {
   "cell_type": "markdown",
   "id": "429e4a1f-a1cd-4a0c-86bf-fc129dd40433",
   "metadata": {},
   "source": [
    "7] State a character used to give single line comment in python ?\n",
    "=> #"
   ]
  },
  {
   "cell_type": "markdown",
   "id": "022d0535-452a-43f6-bc14-64a2b1c757a0",
   "metadata": {},
   "source": [
    "8] Mention function which can help us to find the version of python that we are currently working on ?\n",
    "=> sys.version"
   ]
  },
  {
   "cell_type": "markdown",
   "id": "e9d50f07-0e7c-48ce-9672-2d6e84c00df2",
   "metadata": {},
   "source": [
    "9] .Python supports the creation of anonymous functions at runtime, using a construct called ?\n",
    "=> lambda"
   ]
  },
  {
   "cell_type": "markdown",
   "id": "ac028b1b-3678-4411-9460-6e814f01d09d",
   "metadata": {},
   "source": [
    "10] What does pip stand for python ?\n",
    "Python Package Index"
   ]
  },
  {
   "cell_type": "markdown",
   "id": "efdc9dfe-2006-40f0-8658-badad0ee3bdc",
   "metadata": {},
   "source": [
    "11] Mention a few built in function in python ?\n",
    "=> abs,all,any,ascii,bin,bool,dict"
   ]
  },
  {
   "cell_type": "markdown",
   "id": "1feabced-5b32-4f87-beba-5bf3f0b3b862",
   "metadata": {},
   "source": [
    "12] What is maximum possible length of an identifier in Python ?\n",
    "=> In Python , the highest possible length of an identifier is 79 charaters."
   ]
  },
  {
   "cell_type": "markdown",
   "id": "b22a3d9a-7325-4b1b-a049-80d5a28005ab",
   "metadata": {},
   "source": [
    "13] What are the benefits of using Python ?\n",
    "=> Python is easily understable language  for beginners. Python has all inbuilt functions Which reduces the time to code.\n",
    "Python has all the type of libraries which supports various model development. Versatility Every programmer looks forward to using an advanced programming language to reducen the number of tasks involved . Python is the best option for programmers because of its versatile features."
   ]
  },
  {
   "cell_type": "markdown",
   "id": "7faf1379-06bc-4abd-8d49-6f0080e1ea14",
   "metadata": {},
   "source": [
    "14] How is memory managed in Python ?\n",
    "=> The procedure of providing memory to objects is called allocation. Memory allocation is an essential part of the memory management for a developer . This process basically allots free space in the computers virtual memory works while executing programs. \n",
    "1) Static Memory Allocation= Static memory allocation happens at the compile time.\n",
    "2) Dynamic Memory Allocation = Dynamic memory allocation the memory at the runtime to the program.  "
   ]
  },
  {
   "cell_type": "markdown",
   "id": "fe903912-17b2-4ebc-81e9-d44d9e29b002",
   "metadata": {},
   "source": [
    "15] How to install Python on Windows and set path variables?\n",
    "=> To Install python on windows search for python download on google then various version of python will be showing , download the latest one 32bit or either 64 bit according to your PC ,Then after downloading click on install then next then finish and at last ok. To add python to your Window PATH , you need to get its installation path, to do that, open up the windows search bar and type python.exe \n",
    "Then right click on Python.exe that pops up in the resulting menu and select the open file location option. In the EXplorer windows that opens, click on the long directory bar to the left of the search bar. Highlight and copy the entire path text to your clipboard with the Ctrl + c. Then continue with next steps below . to add python to the PATH  in User variables, rightclick on This PC,and select properties . Once in the properties menu, click on the Advanced system settings option. In the next window, select the Advanced tab, and select Environment Variables .Getting to the environment variables the variables menu has two distinct parts : an upper part called User variable , and the lower part called Lower variable . However, our focus is on the User variables in this case. With in the user variables menu,locate a variable value option using Ctrl + v and click ok. However, if you cant find that variable , you might need to create it. To do that click on New next , in the variable name form type path , and paste ypur Python path in the variable value field. Creating a new path in Users variables Go back to your python installation path folder and double click on scripts to open that directory . Next copy its path from the path bar at the upper part of the windows just like you did earlier for python installaion path, head back to the Environment variables, next select the path variable and click on Edit. Type a semi-olon afte your python executable path paste  Scripts path you just copied fter it. then click ok..."
   ]
  },
  {
   "cell_type": "markdown",
   "id": "10b9886a-c346-4475-afbd-e676480570d1",
   "metadata": {},
   "source": [
    "16] Is Indentation required in python ?\n",
    "=> Yes Identation is required to indicate a block of code in python.\n"
   ]
  }
 ],
 "metadata": {
  "kernelspec": {
   "display_name": "Python 3 (ipykernel)",
   "language": "python",
   "name": "python3"
  },
  "language_info": {
   "codemirror_mode": {
    "name": "ipython",
    "version": 3
   },
   "file_extension": ".py",
   "mimetype": "text/x-python",
   "name": "python",
   "nbconvert_exporter": "python",
   "pygments_lexer": "ipython3",
   "version": "3.10.8"
  }
 },
 "nbformat": 4,
 "nbformat_minor": 5
}
